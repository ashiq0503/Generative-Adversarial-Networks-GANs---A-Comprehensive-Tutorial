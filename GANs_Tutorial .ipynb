{
 "cells": [
  {
   "cell_type": "markdown",
   "id": "6b3ef342",
   "metadata": {},
   "source": [
    "# **Generative Adversarial Networks (GANs) - A Comprehensive Tutorial**\n",
    "  ###                         By\n",
    "  ###                   Name: A.Mohammed Ismail\n",
    "  ###                   Reg. Number: 23090359"
   ]
  },
  {
   "cell_type": "markdown",
   "id": "818ef6cc-e68e-4a0c-bfb2-b6376c90ebd2",
   "metadata": {},
   "source": [
    "## **4. Implementing GANs**"
   ]
  },
  {
   "cell_type": "markdown",
   "id": "9a8e820d",
   "metadata": {},
   "source": [
    "## 4.1. Importing Required Libraries"
   ]
  },
  {
   "cell_type": "code",
   "execution_count": 1,
   "id": "894eff38",
   "metadata": {},
   "outputs": [],
   "source": [
    "# Import required libraries\n",
    "import torch\n",
    "import torch.nn as nn\n",
    "import torch.optim as optim\n",
    "import torchvision.datasets as datasets\n",
    "import torchvision.transforms as transforms\n",
    "from torch.utils.data import DataLoader\n",
    "import matplotlib.pyplot as plt\n",
    "import numpy as np\n"
   ]
  },
  {
   "cell_type": "markdown",
   "id": "88272bf6-60fb-44ce-9d71-84c80721d158",
   "metadata": {},
   "source": [
    "## 4.2. Define the Generator\n",
    "# 🎨 Generator Network for GANs  \n",
    "\n",
    "The **Generator** is a key component of a **Generative Adversarial Network (GAN)**.  \n",
    "It learns to create **fake images** that resemble real ones by transforming a **random noise vector** into structured image data.  \n",
    "\n",
    "---\n",
    "\n",
    "## 🔹 Class: `Generator`  \n",
    "\n",
    "### ✅ Purpose  \n",
    "- Generates **fake images** from a random latent vector.  \n",
    "- Learns to produce outputs that resemble real images.  \n",
    "\n",
    "### ✅ Initialization (`__init__` Method)  \n",
    "- **input_dim**: Size of the random noise vector.  \n",
    "- **output_dim**: Size of the generated image (e.g., number of pixels).  \n",
    "- **Model Architecture**:  \n",
    "  - **Fully Connected Layers**: Expands the noise vector into meaningful features.  \n",
    "  - **ReLU Activations**: Helps the network learn **complex patterns**.  \n",
    "  - **Tanh Activation**: Normalizes pixel values between **-1 and 1** to match real image distributions.  \n",
    "\n",
    "---\n",
    "\n",
    "## 🔹 Forward Pass (`forward` Method)  \n",
    "- **Takes a random noise vector** as input.  \n",
    "- **Passes it through a series of linear transformations** to generate an image.  \n",
    "- **Returns the final fake image** with pixel values between **-1 and 1**.  \n",
    "\n",
    "---\n",
    " \n",
    "✅ Converts **random noise** into **structured images**  \n",
    "✅ Uses **ReLU activations** to learn complex patterns  \n",
    "✅ Normalizes output with **Tanh** for stable training  \n",
    "✅ A critical part of **GANs** for generating realistic images  \n",
    " \n"
   ]
  },
  {
   "cell_type": "code",
   "execution_count": 2,
   "id": "c49ddd47-c036-4a02-862a-41a9b56d3e1f",
   "metadata": {},
   "outputs": [],
   "source": [
    "class Generator(nn.Module):\n",
    "    \"\"\"\n",
    "    The Generator creates fake images from a random noise vector.\n",
    "    It learns to generate images that resemble real ones.\n",
    "    \"\"\"\n",
    "\n",
    "    def __init__(self, input_dim, output_dim):\n",
    "        super(Generator, self).__init__()\n",
    "        self.model = nn.Sequential(\n",
    "            nn.Linear(input_dim, 256),  # Expands noise to meaningful features\n",
    "            nn.ReLU(),  # Activation for learning complex patterns\n",
    "            nn.Linear(256, 512),\n",
    "            nn.ReLU(),\n",
    "            nn.Linear(512, output_dim),  # Outputs image-sized data\n",
    "            nn.Tanh()  # Normalizes pixels between -1 and 1\n",
    "        )\n",
    "    \n",
    "    def forward(self, x):\n",
    "        return self.model(x)\n"
   ]
  },
  {
   "cell_type": "markdown",
   "id": "14824784-09bd-4d92-beca-77805d360b44",
   "metadata": {},
   "source": [
    "## 4.3 Define the Discriminator\n",
    "🛡️ Discriminator Network for GANs  \n",
    "\n",
    "The **Discriminator** is a crucial part of a **Generative Adversarial Network (GAN)**.  \n",
    "It acts as a **binary classifier**, distinguishing between **real** and **fake** images.  \n",
    "\n",
    "---"
   ]
  },
  {
   "cell_type": "code",
   "execution_count": 3,
   "id": "ea4d78e5-87db-4d99-8669-6aa37a3f9c64",
   "metadata": {},
   "outputs": [],
   "source": [
    "class Discriminator(nn.Module):\n",
    "    \"\"\"\n",
    "    The Discriminator is a binary classifier.\n",
    "    It differentiates between real and fake images.\n",
    "    \"\"\"\n",
    "\n",
    "    def __init__(self, input_dim):\n",
    "        super(Discriminator, self).__init__()\n",
    "        self.model = nn.Sequential(\n",
    "            nn.Linear(input_dim, 512),\n",
    "            nn.LeakyReLU(0.2),  # Prevents vanishing gradient problem\n",
    "            nn.Linear(512, 256),\n",
    "            nn.LeakyReLU(0.2),\n",
    "            nn.Linear(256, 1),  # Binary classification (real/fake)\n",
    "            nn.Sigmoid()  # Outputs probability (0 to 1)\n",
    "        )\n",
    "    \n",
    "    def forward(self, x):\n",
    "        return self.model(x)\n"
   ]
  },
  {
   "cell_type": "markdown",
   "id": "25a468b6-81ab-4c9c-91d6-138d6382a2e0",
   "metadata": {},
   "source": [
    "## 🔹 Class: `Discriminator`  \n",
    "\n",
    "### ✅ Purpose  \n",
    "- **Classifies images** as **real (1)** or **fake (0)**.  \n",
    "- Trains alongside the **Generator** to improve adversarial learning.  \n",
    "\n",
    "### ✅ Initialization (`__init__` Method)  \n",
    "- **input_dim**: Size of the input image (number of pixels).  \n",
    "- **Model Architecture**:  \n",
    "  - **Fully Connected Layers**: Extracts important features from the image.  \n",
    "  - **LeakyReLU Activation (0.2)**:  \n",
    "    - Prevents the **vanishing gradient** problem.  \n",
    "    - Allows small gradients even for negative inputs.  \n",
    "  - **Sigmoid Activation**:  \n",
    "    - Outputs a **probability** between **0 and 1**.  \n",
    "    - Helps in binary classification (Real vs. Fake).  \n",
    "\n",
    "---\n",
    "\n",
    "## 🔹 Forward Pass (`forward` Method)  \n",
    "- **Receives an image (real or generated).**  \n",
    "- **Passes it through a series of layers** to extract features.  \n",
    "- **Outputs a probability** indicating whether the image is **real or fake**.  \n",
    "\n",
    "---\n",
    "\n",
    "## 🎯   \n",
    "✅ **Binary classifier** for real vs. fake images  \n",
    "✅ Uses **LeakyReLU** to avoid vanishing gradients  \n",
    "✅ Outputs a probability with **Sigmoid activation**  \n",
    "✅ Works with the **Generator** to improve image generation  \n",
    "\n",
    "⚡ Ready to classify images! 🚀  "
   ]
  },
  {
   "cell_type": "markdown",
   "id": "732cd6bb-d8fd-4a75-8dff-0b47643e75d6",
   "metadata": {},
   "source": [
    "## 4.4 Set Hyperparameters and Load Data"
   ]
  },
  {
   "cell_type": "markdown",
   "id": "ea7b497f-3740-44d9-a0ae-41120e6df8ad",
   "metadata": {},
   "source": [
    "🎯 Hyperparameter Definition & Data Loading for GAN  \n",
    "\n",
    "This section initializes **hyperparameters** and loads the **MNIST dataset** for training a **Generative Adversarial Network (GAN)**.  \n",
    "\n",
    "---"
   ]
  },
  {
   "cell_type": "code",
   "execution_count": 4,
   "id": "e7e70959-459f-4591-88e4-ee9cf5c2a71b",
   "metadata": {},
   "outputs": [
    {
     "name": "stderr",
     "output_type": "stream",
     "text": [
      "100.0%\n",
      "100.0%\n",
      "100.0%\n",
      "100.0%\n"
     ]
    }
   ],
   "source": [
    "# Define hyperparameters\n",
    "input_dim = 100  # Size of noise vector\n",
    "image_dim = 28 * 28  # MNIST image size (flattened)\n",
    "batch_size = 64  # Batch size for training\n",
    "epochs = 100  # Number of training iterations\n",
    "\n",
    "# Load the MNIST dataset\n",
    "transform = transforms.Compose([transforms.ToTensor(), transforms.Normalize((0.5,), (0.5,))])\n",
    "dataset = datasets.MNIST(root='./data', train=True, transform=transform, download=True)\n",
    "dataloader = DataLoader(dataset, batch_size=batch_size, shuffle=True)\n"
   ]
  },
  {
   "cell_type": "markdown",
   "id": "2b276c43-f3f7-4b93-a942-c8485cb48d39",
   "metadata": {},
   "source": [
    "## 🔹 Define Hyperparameters  \n",
    "- **input_dim = 100** → Size of the random noise vector for the **Generator**.  \n",
    "- **image_dim = 28 × 28** → MNIST image size (flattened to 784 pixels).  \n",
    "- **batch_size = 64** → Number of samples processed in one training iteration.  \n",
    "- **epochs = 100** → Number of training iterations for the GAN.  \n",
    "\n",
    "---\n",
    "\n",
    "## 🔹 Load the MNIST Dataset  \n",
    "- **Dataset**: Uses the MNIST dataset of handwritten digits (0-9).  \n",
    "- **Transformations**:  \n",
    "  - **ToTensor()** → Converts images to PyTorch tensors.  \n",
    "  - **Normalize((0.5,), (0.5,))** → Scales pixel values between **-1 and 1**, which is beneficial for **Tanh activation** in the Generator.  \n",
    "- **DataLoader**:  \n",
    "  - **batch_size = 64** → Loads images in mini-batches for efficient training.  \n",
    "  - **shuffle = True** → Shuffles data to improve training randomness.  \n",
    "\n",
    "---\n",
    "\n",
    "## 🎯   \n",
    "✅ **Defines key hyperparameters** for GAN training  \n",
    "✅ **Loads & normalizes MNIST dataset** for image generation  \n",
    "✅ **Uses DataLoader** to provide shuffled mini-batches  \n",
    "\n",
    "⚡ Ready for GAN training! 🚀"
   ]
  },
  {
   "cell_type": "markdown",
   "id": "da7e4bff-4826-45dc-9084-65c727ae2161",
   "metadata": {},
   "source": [
    "## 4.5  Initialize Models and Optimizers"
   ]
  },
  {
   "cell_type": "markdown",
   "id": "2366a2d1-8697-4922-a2ac-fa2ede380285",
   "metadata": {},
   "source": [
    "🎯 Initialize Generator, Discriminator & Training Components  \n",
    "\n",
    "This section initializes the **Generator** and **Discriminator**, defines the **loss function**, and sets up the **optimizers** for training a Generative Adversarial Network (GAN).  \n",
    "\n",
    "---"
   ]
  },
  {
   "cell_type": "code",
   "execution_count": 5,
   "id": "c7c6f0ec-e3a2-442d-a379-f813fd8e9df0",
   "metadata": {},
   "outputs": [],
   "source": [
    "# Create Generator and Discriminator\n",
    "generator = Generator(input_dim, image_dim)\n",
    "discriminator = Discriminator(image_dim)\n",
    "\n",
    "# Define loss function (Binary Cross-Entropy)\n",
    "criterion = nn.BCELoss()\n",
    "\n",
    "# Use Adam optimizer for stability\n",
    "optimizer_G = optim.Adam(generator.parameters(), lr=0.0002)\n",
    "optimizer_D = optim.Adam(discriminator.parameters(), lr=0.0002)\n"
   ]
  },
  {
   "cell_type": "markdown",
   "id": "e589a52e-9514-4dd0-a3db-065afec8066d",
   "metadata": {},
   "source": [
    "## 🔹 Create Generator & Discriminator  \n",
    "- **Generator**: Converts a random noise vector (**input_dim**) into a realistic-looking image (**image_dim = 28×28** for MNIST).  \n",
    "- **Discriminator**: A binary classifier that distinguishes between **real** and **fake** images.  "
   ]
  },
  {
   "cell_type": "markdown",
   "id": "5aab9f2a-e15f-48d9-829b-d71a92b52148",
   "metadata": {},
   "source": [
    "## 4.6 Training the GAN"
   ]
  },
  {
   "cell_type": "code",
   "execution_count": 6,
   "id": "b80cdcf3-2839-454c-b2d9-bfd0a83a7e76",
   "metadata": {},
   "outputs": [
    {
     "name": "stdout",
     "output_type": "stream",
     "text": [
      "Epoch [1/100] | Loss D: 1.7840 | Loss G: 2.5137\n",
      "Epoch [2/100] | Loss D: 0.4210 | Loss G: 2.4986\n",
      "Epoch [3/100] | Loss D: 0.2035 | Loss G: 3.6126\n",
      "Epoch [4/100] | Loss D: 0.0531 | Loss G: 5.2688\n",
      "Epoch [5/100] | Loss D: 0.1515 | Loss G: 11.8030\n",
      "Epoch [6/100] | Loss D: 0.2989 | Loss G: 4.9149\n",
      "Epoch [7/100] | Loss D: 0.4917 | Loss G: 3.3611\n",
      "Epoch [8/100] | Loss D: 0.0891 | Loss G: 5.3572\n",
      "Epoch [9/100] | Loss D: 0.5625 | Loss G: 4.8658\n",
      "Epoch [10/100] | Loss D: 0.1242 | Loss G: 4.0963\n",
      "Epoch [11/100] | Loss D: 0.1599 | Loss G: 5.8167\n",
      "Epoch [12/100] | Loss D: 0.1768 | Loss G: 4.7990\n",
      "Epoch [13/100] | Loss D: 0.3933 | Loss G: 4.2723\n",
      "Epoch [14/100] | Loss D: 0.3028 | Loss G: 4.2417\n",
      "Epoch [15/100] | Loss D: 0.3304 | Loss G: 4.0205\n",
      "Epoch [16/100] | Loss D: 0.2719 | Loss G: 4.4242\n",
      "Epoch [17/100] | Loss D: 0.2617 | Loss G: 4.1096\n",
      "Epoch [18/100] | Loss D: 0.3385 | Loss G: 2.8173\n",
      "Epoch [19/100] | Loss D: 0.4423 | Loss G: 3.7824\n",
      "Epoch [20/100] | Loss D: 0.3578 | Loss G: 4.6124\n",
      "Epoch [21/100] | Loss D: 0.4996 | Loss G: 2.7826\n",
      "Epoch [22/100] | Loss D: 0.3700 | Loss G: 3.5139\n",
      "Epoch [23/100] | Loss D: 0.5789 | Loss G: 3.1216\n",
      "Epoch [24/100] | Loss D: 0.4479 | Loss G: 2.2138\n",
      "Epoch [25/100] | Loss D: 0.5017 | Loss G: 2.0315\n",
      "Epoch [26/100] | Loss D: 0.9391 | Loss G: 1.4232\n",
      "Epoch [27/100] | Loss D: 0.8034 | Loss G: 1.9912\n",
      "Epoch [28/100] | Loss D: 0.5322 | Loss G: 2.8496\n",
      "Epoch [29/100] | Loss D: 0.7885 | Loss G: 2.6718\n",
      "Epoch [30/100] | Loss D: 0.4834 | Loss G: 2.5623\n",
      "Epoch [31/100] | Loss D: 0.6366 | Loss G: 2.8416\n",
      "Epoch [32/100] | Loss D: 0.5271 | Loss G: 2.3890\n",
      "Epoch [33/100] | Loss D: 0.3327 | Loss G: 4.2640\n",
      "Epoch [34/100] | Loss D: 0.9503 | Loss G: 1.5000\n",
      "Epoch [35/100] | Loss D: 0.5336 | Loss G: 3.0501\n",
      "Epoch [36/100] | Loss D: 0.6083 | Loss G: 2.4198\n",
      "Epoch [37/100] | Loss D: 0.4834 | Loss G: 2.2919\n",
      "Epoch [38/100] | Loss D: 0.5413 | Loss G: 2.1054\n",
      "Epoch [39/100] | Loss D: 0.6766 | Loss G: 2.0479\n",
      "Epoch [40/100] | Loss D: 0.6076 | Loss G: 2.2777\n",
      "Epoch [41/100] | Loss D: 0.6873 | Loss G: 1.9999\n",
      "Epoch [42/100] | Loss D: 0.7376 | Loss G: 1.9022\n",
      "Epoch [43/100] | Loss D: 0.7966 | Loss G: 2.0228\n",
      "Epoch [44/100] | Loss D: 0.8332 | Loss G: 1.5248\n",
      "Epoch [45/100] | Loss D: 0.9497 | Loss G: 1.6544\n",
      "Epoch [46/100] | Loss D: 0.8427 | Loss G: 1.8829\n",
      "Epoch [47/100] | Loss D: 0.8354 | Loss G: 1.6752\n",
      "Epoch [48/100] | Loss D: 0.7922 | Loss G: 1.8362\n",
      "Epoch [49/100] | Loss D: 0.6200 | Loss G: 1.9499\n",
      "Epoch [50/100] | Loss D: 0.6682 | Loss G: 1.7552\n",
      "Epoch [51/100] | Loss D: 0.8576 | Loss G: 2.1889\n",
      "Epoch [52/100] | Loss D: 0.8040 | Loss G: 1.6659\n",
      "Epoch [53/100] | Loss D: 0.8439 | Loss G: 2.7510\n",
      "Epoch [54/100] | Loss D: 0.5648 | Loss G: 2.1659\n",
      "Epoch [55/100] | Loss D: 0.8212 | Loss G: 2.0154\n",
      "Epoch [56/100] | Loss D: 0.6165 | Loss G: 2.3946\n",
      "Epoch [57/100] | Loss D: 0.5517 | Loss G: 2.5068\n",
      "Epoch [58/100] | Loss D: 0.5904 | Loss G: 2.0435\n",
      "Epoch [59/100] | Loss D: 0.9352 | Loss G: 1.6936\n",
      "Epoch [60/100] | Loss D: 0.8989 | Loss G: 1.9998\n",
      "Epoch [61/100] | Loss D: 0.8513 | Loss G: 1.1963\n",
      "Epoch [62/100] | Loss D: 0.7846 | Loss G: 2.0557\n",
      "Epoch [63/100] | Loss D: 0.9970 | Loss G: 1.7644\n",
      "Epoch [64/100] | Loss D: 0.6980 | Loss G: 2.0765\n",
      "Epoch [65/100] | Loss D: 0.8368 | Loss G: 1.7526\n",
      "Epoch [66/100] | Loss D: 0.8763 | Loss G: 2.2650\n",
      "Epoch [67/100] | Loss D: 1.1394 | Loss G: 1.5785\n",
      "Epoch [68/100] | Loss D: 0.8057 | Loss G: 1.9246\n",
      "Epoch [69/100] | Loss D: 0.7451 | Loss G: 1.8289\n",
      "Epoch [70/100] | Loss D: 0.8942 | Loss G: 1.8515\n",
      "Epoch [71/100] | Loss D: 0.7813 | Loss G: 1.9655\n",
      "Epoch [72/100] | Loss D: 0.8610 | Loss G: 1.9792\n",
      "Epoch [73/100] | Loss D: 0.7270 | Loss G: 2.1116\n",
      "Epoch [74/100] | Loss D: 0.8278 | Loss G: 1.6498\n",
      "Epoch [75/100] | Loss D: 0.8391 | Loss G: 1.5280\n",
      "Epoch [76/100] | Loss D: 0.8554 | Loss G: 2.0456\n",
      "Epoch [77/100] | Loss D: 0.8329 | Loss G: 1.9645\n",
      "Epoch [78/100] | Loss D: 1.0991 | Loss G: 1.7285\n",
      "Epoch [79/100] | Loss D: 1.0633 | Loss G: 1.9149\n",
      "Epoch [80/100] | Loss D: 0.8458 | Loss G: 1.5807\n",
      "Epoch [81/100] | Loss D: 0.8628 | Loss G: 1.3258\n",
      "Epoch [82/100] | Loss D: 1.0361 | Loss G: 1.8937\n",
      "Epoch [83/100] | Loss D: 0.7434 | Loss G: 2.2693\n",
      "Epoch [84/100] | Loss D: 0.9647 | Loss G: 1.5499\n",
      "Epoch [85/100] | Loss D: 0.7769 | Loss G: 1.5790\n",
      "Epoch [86/100] | Loss D: 0.8494 | Loss G: 1.7406\n",
      "Epoch [87/100] | Loss D: 0.9425 | Loss G: 1.9217\n",
      "Epoch [88/100] | Loss D: 0.7622 | Loss G: 1.4080\n",
      "Epoch [89/100] | Loss D: 0.9766 | Loss G: 1.6864\n",
      "Epoch [90/100] | Loss D: 0.7338 | Loss G: 1.6446\n",
      "Epoch [91/100] | Loss D: 1.1365 | Loss G: 1.2455\n",
      "Epoch [92/100] | Loss D: 1.1493 | Loss G: 1.4335\n",
      "Epoch [93/100] | Loss D: 0.9186 | Loss G: 1.7512\n",
      "Epoch [94/100] | Loss D: 0.8130 | Loss G: 1.7169\n",
      "Epoch [95/100] | Loss D: 0.7074 | Loss G: 1.7541\n",
      "Epoch [96/100] | Loss D: 0.9523 | Loss G: 1.3453\n",
      "Epoch [97/100] | Loss D: 0.8586 | Loss G: 1.6406\n",
      "Epoch [98/100] | Loss D: 0.8954 | Loss G: 1.6479\n",
      "Epoch [99/100] | Loss D: 1.0993 | Loss G: 1.8368\n",
      "Epoch [100/100] | Loss D: 0.9801 | Loss G: 1.5548\n"
     ]
    }
   ],
   "source": [
    "# Lists to store losses for visualization\n",
    "generator_losses = []\n",
    "discriminator_losses = []\n",
    "\n",
    "# Start training loop\n",
    "for epoch in range(epochs):\n",
    "    for real_images, _ in dataloader:\n",
    "        real_images = real_images.view(-1, image_dim)  # Flatten images\n",
    "        batch_size = real_images.size(0)\n",
    "        \n",
    "        # Generate random noise and create fake images\n",
    "        z = torch.randn(batch_size, input_dim)\n",
    "        fake_images = generator(z)\n",
    "\n",
    "        # Define real and fake labels\n",
    "        real_labels = torch.ones(batch_size, 1)\n",
    "        fake_labels = torch.zeros(batch_size, 1)\n",
    "\n",
    "        # Train Discriminator\n",
    "        optimizer_D.zero_grad()\n",
    "        loss_real = criterion(discriminator(real_images), real_labels)\n",
    "        loss_fake = criterion(discriminator(fake_images.detach()), fake_labels)\n",
    "        loss_D = loss_real + loss_fake\n",
    "        loss_D.backward()\n",
    "        optimizer_D.step()\n",
    "\n",
    "        # Train Generator\n",
    "        optimizer_G.zero_grad()\n",
    "        loss_G = criterion(discriminator(fake_images), real_labels)  # Trick Discriminator\n",
    "        loss_G.backward()\n",
    "        optimizer_G.step()\n",
    "    \n",
    "    # Store losses\n",
    "    generator_losses.append(loss_G.item())\n",
    "    discriminator_losses.append(loss_D.item())\n",
    "    \n",
    "    # Print training progress\n",
    "    print(f\"Epoch [{epoch+1}/{epochs}] | Loss D: {loss_D.item():.4f} | Loss G: {loss_G.item():.4f}\")\n"
   ]
  },
  {
   "cell_type": "markdown",
   "id": "523e5580-0166-4ed7-964a-81402562a185",
   "metadata": {},
   "source": [
    "# 🎯 GAN Training Loop  \n",
    "\n",
    "This section implements the **training process** for a **Generative Adversarial Network (GAN)**. The model is trained using **real images from MNIST** and **generated fake images**, updating both the **Generator (G)** and **Discriminator (D)** iteratively.  \n",
    "\n",
    "## 🔹 Lists to Track Losses  \n",
    "- `generator_losses`: Stores Generator loss values over epochs.  \n",
    "- `discriminator_losses`: Stores Discriminator loss values over epochs.  \n",
    "\n",
    "## 🔹 Training Loop Overview  \n",
    "The model is trained for `epochs` iterations. Each **epoch** consists of multiple **mini-batch** updates.  \n",
    "\n",
    "### 1️⃣ **Process Real Images**  \n",
    "- Load a batch of **real images** and **flatten** them into vectors.  \n",
    "\n",
    "### 2️⃣ **Generate Fake Images**  \n",
    "- Create a **random noise vector (z)**.  \n",
    "- Use the **Generator** to create **fake images** from noise.  \n",
    "\n",
    "### 3️⃣ **Define Real & Fake Labels**  \n",
    "- **Real images → Label 1**  \n",
    "- **Fake images → Label 0**  \n",
    "\n",
    "## 🔹 Discriminator Training  \n",
    "- Compute **Discriminator loss** for real and fake images.  \n",
    "- Update weights using **backpropagation**.  \n",
    "\n",
    "## 🔹 Generator Training  \n",
    "- The **Generator** aims to **trick** the Discriminator by making fake images appear real.  \n",
    "- Uses **real_labels** to **fool** the Discriminator.  \n",
    "- Updates Generator weights via **backpropagation**.  \n",
    "\n",
    "## 🔹 Store Losses & Monitor Progress  \n",
    "- Logs **losses** for visualization.  \n",
    "- Prints training progress at each **epoch**.  \n",
    "\n",
    "## 🎯 \n",
    "✅ **Trains Generator to create realistic images**  \n",
    "✅ **Trains Discriminator to differentiate real vs fake images**  \n",
    "✅ **Tracks losses for visualization**  \n",
    "✅ **Prints training progress after each epoch**  \n",
    "\n",
    "⚡ The GAN is learning! 🚀  \n"
   ]
  },
  {
   "cell_type": "markdown",
   "id": "56104dbc-b34f-4e97-a5df-90a54824c0e2",
   "metadata": {},
   "source": [
    "## 4.7 Visualizing Training Loss"
   ]
  },
  {
   "cell_type": "markdown",
   "id": "72fcd982-20cc-4991-b723-7863410cb52c",
   "metadata": {},
   "source": [
    "📊 Plotting GAN Loss Curves  \n",
    "\n",
    "This function **visualizes** the training process of a **Generative Adversarial Network (GAN)** by plotting the **Generator** and **Discriminator** loss curves over epochs.  \n",
    "\n",
    "## 🔹 Function: `plot_losses()`  \n",
    "### ✅ **Parameters**  \n",
    "- `generator_losses`: List tracking loss values for the Generator.  \n",
    "- `discriminator_losses`: List tracking loss values for the Discriminator.  \n",
    "\n",
    "### 🔹 **Plot Customization**  \n",
    "- **X-axis** → Represents training **epochs**.  \n",
    "- **Y-axis** → Represents **loss values**.  \n",
    "- **Blue Line** → Generator Loss (G).  \n",
    "- **Red Line** → Discriminator Loss (D).  \n",
    "- **Title** → \"GAN Training Loss\" for clarity.  \n",
    "- **Legend** → Helps differentiate between **G** and **D** losses.  \n",
    "\n",
    "## 🔹 Visualization Purpose  \n",
    "- Helps analyze **GAN training stability**.  \n",
    "- Observes if **Discriminator overpowers Generator**.  \n",
    "- Detects issues like **mode collapse or vanishing gradients**.  \n",
    "\n",
    "### 🎯  \n",
    "✅ **Monitors GAN Training Progress**  \n",
    "✅ **Provides insights into convergence**  \n",
    "✅ **Detects instability in loss trends**  \n",
    "\n",
    "🚀 Now visualize how well your GAN is training! 📈  \n"
   ]
  },
  {
   "cell_type": "code",
   "execution_count": 7,
   "id": "29725acb-958b-446b-aa91-9b44e7f479a5",
   "metadata": {},
   "outputs": [
    {
     "data": {
      "image/png": "[encoded data removed]",
      "text/plain": [
       "<Figure size 1000x500 with 1 Axes>"
      ]
     },
     "metadata": {},
     "output_type": "display_data"
    }
   ],
   "source": [
    "# Function to plot loss curves\n",
    "def plot_losses(generator_losses, discriminator_losses):\n",
    "    plt.figure(figsize=(10,5))\n",
    "    plt.plot(generator_losses, label=\"Generator Loss\", color='blue')\n",
    "    plt.plot(discriminator_losses, label=\"Discriminator Loss\", color='red')\n",
    "    plt.xlabel(\"Epochs\")\n",
    "    plt.ylabel(\"Loss\")\n",
    "    plt.legend()\n",
    "    plt.title(\"GAN Training Loss\")\n",
    "    plt.show()\n",
    "\n",
    "# Plot the loss curves\n",
    "plot_losses(generator_losses, discriminator_losses)\n"
   ]
  },
  {
   "cell_type": "markdown",
   "id": "c8e9d8c4-1423-4a7f-92b6-91948842fc32",
   "metadata": {},
   "source": [
    "## 4.8 Generate Fake Images"
   ]
  },
  {
   "cell_type": "markdown",
   "id": "2ec10a60-5e56-48f2-9d2a-52c73a85c408",
   "metadata": {},
   "source": [
    "🎨 Generating & Visualizing Fake Images  \n",
    "\n",
    "This function generates and displays **synthetic images** created by a **GAN's Generator**.  \n",
    "\n",
    "## 🔹 Function: `generate_images()`  \n",
    "### ✅ **Parameters**  \n",
    "- `generator`: The trained **Generator model**.  \n",
    "- `num_images`: Number of **fake images** to generate (default = 16).  \n",
    "- `image_dim`: The **height/width** of the image (default = 28 for MNIST).  \n",
    "\n",
    "### 🔹 **Steps in Image Generation**  \n",
    "1. **Generate Noise** → Creates a **random latent vector** (`z`) from a normal distribution.  \n",
    "2. **Pass Noise to Generator** → Produces **fake images**.  \n",
    "3. **Detach & Convert to NumPy** → Prepares data for visualization.  \n",
    "4. **Plot Images** → Displays them in a **4x4 grid**.  \n",
    "5. **Grayscale Visualization** → Uses `cmap='gray'` for clearer representation.  \n",
    "\n",
    "## 🔹 Why is this Important?  \n",
    "- **Assess Generator Performance** 🎭  \n",
    "- **Visualize Improvements over Epochs** 📈  \n",
    "- **Detect Mode Collapse or Blurriness** ⚠️  \n",
    "\n",
    "### 🎯   \n",
    "✅ **Generates fake images from noise**  \n",
    "✅ **Displays a 4x4 grid of outputs**  \n",
    "✅ **Helps track GAN training progress**  \n",
    "\n",
    "🚀 Ready to see how well your Generator performs? 🔥  \n"
   ]
  },
  {
   "cell_type": "code",
   "execution_count": 8,
   "id": "79e1ad70-3dbd-4582-acc6-00931ce821a7",
   "metadata": {},
   "outputs": [
    {
     "data": {
      "image/png": "[encoded data removed]",
      "text/plain": [
       "<Figure size 600x600 with 16 Axes>"
      ]
     },
     "metadata": {},
     "output_type": "display_data"
    }
   ],
   "source": [
    "# Function to generate and visualize fake images\n",
    "def generate_images(generator, num_images=16, image_dim=28):\n",
    "    z = torch.randn(num_images, 100)  # Generate noise\n",
    "    fake_images = generator(z).detach().numpy()\n",
    "    \n",
    "    fig, axes = plt.subplots(4, 4, figsize=(6,6))\n",
    "    for i, ax in enumerate(axes.flat):\n",
    "        ax.imshow(fake_images[i].reshape(image_dim, image_dim), cmap='gray')  # Convert to 2D\n",
    "        ax.axis('off')\n",
    "    plt.suptitle(\"Generated Fake Images\")\n",
    "    plt.show()\n",
    "\n",
    "# Display generated images\n",
    "generate_images(generator)\n"
   ]
  },
  {
   "cell_type": "code",
   "execution_count": null,
   "id": "c86fac2d-d42b-4868-89e8-8a1d6e0be3f2",
   "metadata": {},
   "outputs": [],
   "source": []
  }
 ],
 "metadata": {
  "kernelspec": {
   "display_name": "Python 3 (ipykernel)",
   "language": "python",
   "name": "python3"
  },
  "language_info": {
   "codemirror_mode": {
    "name": "ipython",
    "version": 3
   },
   "file_extension": ".py",
   "mimetype": "text/x-python",
   "name": "python",
   "nbconvert_exporter": "python",
   "pygments_lexer": "ipython3",
   "version": "3.13.2"
  }
 },
 "nbformat": 4,
 "nbformat_minor": 5
}
